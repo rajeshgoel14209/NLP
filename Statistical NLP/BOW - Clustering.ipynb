{
 "cells": [
  {
   "cell_type": "code",
   "execution_count": 48,
   "metadata": {
    "collapsed": true
   },
   "outputs": [],
   "source": [
    "import numpy as np\n",
    "import pandas as pd\n",
    "import nltk\n",
    "import re\n",
    "import os\n",
    "import codecs\n",
    "from sklearn import feature_extraction\n",
    "import mpld3"
   ]
  },
  {
   "cell_type": "code",
   "execution_count": 52,
   "metadata": {},
   "outputs": [
    {
     "name": "stdout",
     "output_type": "stream",
     "text": [
      "/home/sunil/Desktop/boww2v\n"
     ]
    }
   ],
   "source": [
    "import os\n",
    "os.chdir(\"/home/sunil/Desktop/boww2v\")\n",
    "print (os.getcwd())"
   ]
  },
  {
   "cell_type": "code",
   "execution_count": 4,
   "metadata": {},
   "outputs": [],
   "source": [
    "from bs4 import BeautifulSoup\n",
    "#import two lists: titles, and synopses\n",
    "titles = open('title_list.txt').read().split('\\n')\n",
    "#ensures that only the first 100 are read in\n",
    "titles = titles[:100]\n",
    "synopses_imdb = open('synopses_list_imdb.txt').read().split('\\n BREAKS HERE')\n",
    "synopses_imdb = synopses_imdb[:100]\n",
    "\n",
    "synopses_clean_imdb = []\n",
    "\n",
    "for text in synopses_imdb:\n",
    "    text = BeautifulSoup(text, 'html.parser').getText()\n",
    "    #strips html formatting and converts to unicode\n",
    "    synopses_clean_imdb.append(text)\n",
    "\n",
    "synopses_imdb = synopses_clean_imdb\n",
    "synopses = []\n",
    "\n",
    "for i in range(len(synopses_imdb)):\n",
    "    item = synopses_imdb[i]\n",
    "    synopses.append(item)"
   ]
  },
  {
   "cell_type": "code",
   "execution_count": 5,
   "metadata": {},
   "outputs": [
    {
     "name": "stdout",
     "output_type": "stream",
     "text": [
      "100\n",
      "100\n"
     ]
    }
   ],
   "source": [
    "print len(synopses)\n",
    "print len(titles)"
   ]
  },
  {
   "cell_type": "code",
   "execution_count": 12,
   "metadata": {},
   "outputs": [
    {
     "name": "stdout",
     "output_type": "stream",
     "text": [
      "Schindler's List\n"
     ]
    }
   ],
   "source": [
    "print titles[2]"
   ]
  },
  {
   "cell_type": "code",
   "execution_count": 13,
   "metadata": {},
   "outputs": [
    {
     "name": "stdout",
     "output_type": "stream",
     "text": [
      "\n",
      "\n",
      "The relocation of Polish Jews from surrounding areas to Krakow begins in late 1939, shortly after the outbreak of World War II, when the German Army defeats the Polish Army in three weeks. Oskar Schindler (Liam Neeson), a successful businessman, arrives from Czechoslovakia in hopes of using the abundant cheap labour force of Jews to manufacture enamelware for the German military. Schindler, an opportunistic member of the Nazi party, lavishes bribes upon the army and SS officials in charge of procurement. Sponsored by the military, Schindler acquires a factory for the production of army mess kits and cooking paraphernalia. Not knowing much about how to properly run such an enterprise, he gains a contact in Itzhak Stern (Ben Kingsley), a functionary in the local Judenrat (Jewish Council) who has contacts with the now-underground Jewish business community in the ghetto. They loan him the money for the factory in return for a small share of products produced (for trade on the black market). Opening the factory, Schindler pleases the Nazis and enjoys his new-found wealth and status as \"Herr Direktor,\" while Stern handles all administration. Stern suggests Schindler hire Jews instead of Poles because they cost less (the Jews themselves get nothing; the wages are paid to the Reich). Workers in Schindler's factory are allowed outside the ghetto, and Stern falsifies documents to ensure that as many people as possible are deemed \"essential\" by the Nazi bureaucracy, which saves them from being transported to concentration camps, or even being killed.Amon Göth (Ralph Fiennes) arrives in Krakow to initiate construction of a labor camp nearby, Paszów. The SS soon liquidates the Krakow ghetto, sending in hundreds of troops to empty the cramped rooms and shoot anyone who protests, is uncooperative, elderly, or infirmed, or for no reason at all. Schindler watches the massacre from the hills overlooking the area, and is profoundly affected. He nevertheless is careful to befriend Göth and, through Stern's attention to bribery, he continues to enjoy the SS's support and protection. The camp is built outside the city at Paszów. During this time, Schindler bribes Göth into allowing him to build a sub-camp for his workers, with the motive of keeping them safe from the depredations of the guards. Eventually, an order arrives from Berlin commanding Göth to exhume and destroy all bodies of those killed in the Krakow ghetto, dismantle Paszów, and to ship the remaining Jews to Auschwitz. Schindler prevails upon Göth to let him keep \"his\" workers so that he can move them to a factory in his old home of Zwittau-Brinnlitz, in Moravia -- away from the \"final solution\" now fully under way in occupied Poland. Göth acquiesces, charging a certain amount for each worker. Schindler and Stern assemble a list of workers that should keep them off the trains to Auschwitz.\"Schindler's List\" comprises these \"skilled\" inmates, and for many of those in Paszów, being included means the difference between life and death. Almost all of the people on Schindler's list arrive safely at the new site, with the exception to the train carrying the women and the children, which is accidentally redirected to Auschwitz. There, the women are directed to what they believe is a gas chamber; after a harrowing experience where their hair is crudely cut off and they are forced to strip, they see only water falling from the showers. The day after, the women are shown waiting in line for work. In the meantime, Schindler had rushed immediately to Auschwitz to solve the problem and to get the women out of Auschwitz; to this end he bribes the camp commander, Rudolf Höss (Hans-Michael Rehberg), with a cache of diamonds so that he is able to spare all the women and the children. However, a last problem arises just when all the women are boarding the train because several SS officers attempt to hold some children back and prevent them from leaving. Schindler, there to personally oversee the boarding, steps in and is successful in obtaining from the officers the release of the children. Once the Schindler women arrive in Zwittau-Brinnlitz, Schindler institutes firm controls on the Nazi guards assigned to the factory; summary executions are forbidden, abuse of the workers is as well and the Nazi guards are not allowed on the factory floor. Schindler also permits the Jews to observe the Sabbath, and spends much of his fortune acquired in Poland bribing Nazi officials. In his home town, he surprises his wife while she's in church during mass, and tells her that she is the only woman in his life (despite having been shown previously to be a womanizer). She goes with him to the factory to assist him. He runs out of money just as the German army surrenders, ending the war in Europe.As a German Nazi and self-described \"profiteer of slave labor,\" Schindler must flee the oncoming Soviet Red Army. After dismissing the Nazi guards to return to their families, he packs a car in the night, and bids farewell to his workers. They give him a letter explaining he is not a criminal to them, together with a ring engraved with the Talmudic quotation, \"He who saves the life of one man, saves the world entire.\" Schindler is touched but deeply distraught, feeling he could've done more to save many more lives. He leaves with his wife during the night, dressed in Polish prisoner clothes, posing as refugees. The Schindler Jews, having slept outside the factory gates through the night, are awakened by sunlight the next morning. A Soviet dragoon arrives and announces to the Jews that they have been liberated by the Red Army. The Jews walk to a nearby town in search of food. A title card informs us that Schindler was declared a \"righteous person\" by the Yad Vashem of Jerusalem, and himself planted a tree on the Avenue of the Righteous in Israel, which still grows to this day. The fate of Göth is also shown; he was captured near the German town of Bad Tolz and taken back to Paszów where, defiant to the end and announcing his allegiance to Hitler, is hanged for crimes against humanity.As the surviving Schindler Jews walk abreast, the frame changes to another of the Schindler Jews in the present day (in color) at the grave of Oskar Schindler in Israel. The film ends with a procession of now-aged Jews who worked in Schindler's factory, each of whom reverently sets a stone on his grave. The actors portraying the major characters walk hand-in-hand with the people they portrayed, also placing stones on Schindler's grave as they pass. Actor Ben Kingsley escorts Itzhak Stern's wife. The audience learns that the survivors and descendants of the approximately 1,100 Jews sheltered by Schindler now number over 6,000. The Jewish population of Poland, once numbering in the millions, was at the time of the film's release approximately 4,000. In the final scene, a man (Neeson himself, though his face is not visible) places a pair of roses on the grave, and stands contemplatively over it.\n",
      "\n",
      "\n"
     ]
    }
   ],
   "source": [
    "print synopses[2]"
   ]
  },
  {
   "cell_type": "code",
   "execution_count": 14,
   "metadata": {},
   "outputs": [
    {
     "name": "stdout",
     "output_type": "stream",
     "text": [
      "['The Godfather', 'The Shawshank Redemption', \"Schindler's List\", 'Raging Bull', 'Casablanca', \"One Flew Over the Cuckoo's Nest\", 'Gone with the Wind', 'Citizen Kane', 'The Wizard of Oz', 'Titanic']\n"
     ]
    }
   ],
   "source": [
    "print titles[:10]"
   ]
  },
  {
   "cell_type": "code",
   "execution_count": 15,
   "metadata": {},
   "outputs": [
    {
     "name": "stdout",
     "output_type": "stream",
     "text": [
      "\n",
      "\n",
      "In late summer 1945, guests are gathered for the wedding reception of Don Vito Corleone's daughter Connie (Talia Shire) and Carlo Rizzi (Gianni Russo). Vito (Marlon Brando), the head of the Corleone\n"
     ]
    }
   ],
   "source": [
    "print synopses[0][:200]"
   ]
  },
  {
   "cell_type": "code",
   "execution_count": 16,
   "metadata": {
    "collapsed": true
   },
   "outputs": [],
   "source": [
    "stopwords = nltk.corpus.stopwords.words('english')"
   ]
  },
  {
   "cell_type": "code",
   "execution_count": 17,
   "metadata": {},
   "outputs": [
    {
     "name": "stdout",
     "output_type": "stream",
     "text": [
      "[u'i', u'me', u'my', u'myself', u'we', u'our', u'ours', u'ourselves', u'you', u'your']\n"
     ]
    }
   ],
   "source": [
    "print stopwords[:10]"
   ]
  },
  {
   "cell_type": "code",
   "execution_count": 18,
   "metadata": {
    "collapsed": true
   },
   "outputs": [],
   "source": [
    "# load nltk's SnowballStemmer as variabled 'stemmer'\n",
    "from nltk.stem.snowball import SnowballStemmer\n",
    "stemmer = SnowballStemmer(\"english\")"
   ]
  },
  {
   "cell_type": "code",
   "execution_count": 19,
   "metadata": {
    "collapsed": true
   },
   "outputs": [],
   "source": [
    "# here I define a tokenizer and stemmer which returns the set of stems in the text that it is passed\n",
    "def tokenize_and_stem(text):\n",
    "    # first tokenize by sentence, then by word to ensure that punctuation is caught as it's own token\n",
    "    tokens = [word for sent in nltk.sent_tokenize(text) for word in nltk.word_tokenize(sent)]\n",
    "    filtered_tokens = []\n",
    "    # filter out any tokens not containing letters (e.g., numeric tokens, raw punctuation)\n",
    "    for token in tokens:\n",
    "        if re.search('[a-zA-Z]', token):\n",
    "            filtered_tokens.append(token)\n",
    "    stems = [stemmer.stem(t) for t in filtered_tokens]\n",
    "    return stems\n",
    "\n",
    "def tokenize_only(text):\n",
    "    # first tokenize by sentence, then by word to ensure that punctuation is caught as it's own token\n",
    "    tokens = [word.lower() for sent in nltk.sent_tokenize(text) for word in nltk.word_tokenize(sent)]\n",
    "    filtered_tokens = []\n",
    "    # filter out any tokens not containing letters (e.g., numeric tokens, raw punctuation)\n",
    "    for token in tokens:\n",
    "        if re.search('[a-zA-Z]', token):\n",
    "            filtered_tokens.append(token)\n",
    "    return filtered_tokens"
   ]
  },
  {
   "cell_type": "code",
   "execution_count": 20,
   "metadata": {
    "collapsed": true
   },
   "outputs": [],
   "source": [
    "#use extend so it's a big flat list of vocab\n",
    "totalvocab_stemmed = []\n",
    "totalvocab_tokenized = []\n",
    "for i in synopses:\n",
    "    allwords_stemmed = tokenize_and_stem(i) #for each item in 'synopses', tokenize/stem\n",
    "    totalvocab_stemmed.extend(allwords_stemmed) #extend the 'totalvocab_stemmed' list\n",
    "    \n",
    "    allwords_tokenized = tokenize_only(i)\n",
    "    totalvocab_tokenized.extend(allwords_tokenized)"
   ]
  },
  {
   "cell_type": "code",
   "execution_count": 25,
   "metadata": {},
   "outputs": [
    {
     "data": {
      "text/plain": [
       "u'of'"
      ]
     },
     "execution_count": 25,
     "metadata": {},
     "output_type": "execute_result"
    }
   ],
   "source": [
    "totalvocab_stemmed[10]"
   ]
  },
  {
   "cell_type": "code",
   "execution_count": 26,
   "metadata": {},
   "outputs": [
    {
     "data": {
      "text/plain": [
       "u'of'"
      ]
     },
     "execution_count": 26,
     "metadata": {},
     "output_type": "execute_result"
    }
   ],
   "source": [
    "totalvocab_tokenized[10]"
   ]
  },
  {
   "cell_type": "code",
   "execution_count": 27,
   "metadata": {},
   "outputs": [
    {
     "name": "stdout",
     "output_type": "stream",
     "text": [
      "CPU times: user 5.17 s, sys: 64 ms, total: 5.24 s\n",
      "Wall time: 5.19 s\n",
      "(100, 372)\n"
     ]
    }
   ],
   "source": [
    "from sklearn.feature_extraction.text import TfidfVectorizer\n",
    "\n",
    "#define vectorizer parameters\n",
    "tfidf_vectorizer = TfidfVectorizer(max_df=0.8, max_features=200000,\n",
    "                                 min_df=0.2, stop_words='english',\n",
    "                                 use_idf=True, tokenizer=tokenize_and_stem, ngram_range=(1,3))\n",
    "\n",
    "%time tfidf_matrix = tfidf_vectorizer.fit_transform(synopses) #fit the vectorizer to synopses\n",
    "\n",
    "print(tfidf_matrix.shape)"
   ]
  },
  {
   "cell_type": "code",
   "execution_count": 28,
   "metadata": {
    "collapsed": true
   },
   "outputs": [],
   "source": [
    "terms = tfidf_vectorizer.get_feature_names()\n"
   ]
  },
  {
   "cell_type": "code",
   "execution_count": 29,
   "metadata": {},
   "outputs": [
    {
     "name": "stdout",
     "output_type": "stream",
     "text": [
      "[u\"'d\", u'abl', u'accept', u'accompani', u'act', u'action', u'admit', u'afterward', u'agre', u'air', u'aliv', u'allow', u'alon', u'alreadi', u'alway', u'american', u'ani', u'anoth', u'anyon', u'anyth', u'apart', u'appar', u'appear', u'approach', u'area', u'arm', u'armi', u'arrang', u'arrest', u'arriv', u'ask', u'attack', u'attempt', u'attend', u'avoid', u'away', u'bad', u'bar', u'battl', u'beat', u'becaus', u'becom', u'bed', u'befor', u'begin', u'believ', u'better', u'big', u'black', u'board', u'bodi', u'boy', u'break', u'bring', u'brother', u'build', u'busi', u'buy', u'ca', u\"ca n't\", u'car', u'care', u'carri', u'catch', u'caus', u'chang', u'charg', u'chase', u'child', u'children', u'citi', u'claim', u'clear', u'close', u'cold', u'come', u'command', u'complet', u'confront', u'consid', u'continu', u'convers', u'convinc', u'coupl', u'cover', u'cross', u'cut', u'dark', u'daughter', u'day', u'dead', u'death', u'decid', u'demand', u'despit', u'destroy', u'did', u'die', u'direct', u'discov', u'discuss', u'doe', u\"doe n't\", u'door', u'dress', u'drink', u'drive', u'drop', u'dure', u'earlier', u'emerg', u'empti', u'encount', u'end', u'enter', u'entir', u'escap', u'event', u'eventu', u'everyon', u'explain', u'eye', u'face', u'fact', u'fall', u'famili', u'father', u'feel', u'field', u'fight', u'film', u'final', u'finish', u'follow', u'forc', u'friend', u'futur', u'girl', u'given', u'goe', u'gone', u'good', u'grab', u'great', u'group', u'grow', u'guard', u'gun', u'hand', u'hang', u'happen', u'head', u'hear', u'help', u'hide', u'hit', u'hold', u'home', u'hope', u'hospit', u'hous', u'howev', u'huge', u'husband', u'immedi', u'includ', u'inform', u'initi', u'insid', u'insist', u'instead', u'investig', u'invit', u'involv', u'job', u'john', u'join', u'jump', u'just', u'kill', u'knock', u'know', u'known', u'land', u'larg', u'late', u'later', u'lead', u'learn', u'leav', u'led', u'left', u'let', u'lie', u'life', u'light', u'like', u'line', u'littl', u'live', u'll', u'local', u'long', u'look', u'lose', u'lost', u'love', u'make', u'man', u'manag', u'mani', u'marri', u'marriag', u'meet', u'member', u'men', u'met', u'mind', u'miss', u'moment', u'money', u'morn', u'mother', u'movi', u'mr.', u'murder', u\"n't\", u'near', u'nearbi', u'need', u'new', u'new york', u'news', u'night', u'note', u'noth', u'notic', u'number', u'offer', u'offic', u'old', u'onc', u'onli', u'open', u'order', u'outsid', u'parti', u'pass', u'past', u'pay', u'peopl', u'person', u'phone', u'pick', u'place', u'plan', u'play', u'point', u'polic', u'possibl', u'power', u'prepar', u'present', u'previous', u'prison', u'privat', u'promis', u'prove', u'public', u'pull', u'question', u'quick', u'reach', u'real', u'realiz', u'realli', u'reason', u'receiv', u'recogn', u'refus', u'reluct', u'remain', u'report', u'rest', u'return', u'reveal', u'ride', u'right', u'robert', u'room', u'run', u'save', u'say', u'scene', u'scream', u'search', u'second', u'seen', u'send', u'sent', u'set', u'sever', u'share', u'shock', u'shoot', u'short', u'shot', u'sinc', u'sister', u'sit', u'situat', u'sleep', u'small', u'soldier', u'someth', u'son', u'soon', u'speak', u'stand', u'start', u'state', u'station', u'stay', u'stop', u'stori', u'street', u'success', u'sudden', u'suggest', u'surviv', u'taken', u'talk', u'tell', u'themselv', u'thing', u'think', u'threaten', u'throw', u'time', u'togeth', u'told', u'town', u'train', u'travel', u'tri', u'turn', u'unabl', u'understand', u'use', u'veri', u'visit', u'voic', u'wait', u'walk', u'want', u'war', u'warn', u'watch', u'water', u'way', u'wear', u'wife', u'window', u'wit', u'woman', u'work', u'world', u'wound', u'write', u'year', u'york', u'young']\n"
     ]
    }
   ],
   "source": [
    "print terms"
   ]
  },
  {
   "cell_type": "code",
   "execution_count": 32,
   "metadata": {},
   "outputs": [
    {
     "name": "stdout",
     "output_type": "stream",
     "text": [
      "[[ 1.          0.26015693  0.25786319 ...,  0.41102123  0.40919079  0.        ]\n",
      " [ 0.26015693  1.          0.31190325 ...,  0.35272122  0.32446419  0.        ]\n",
      " [ 0.25786319  0.31190325  1.         ...,  0.28976346  0.29452701  0.        ]\n",
      " ..., \n",
      " [ 0.41102123  0.35272122  0.28976346 ...,  1.          0.66208677  0.        ]\n",
      " [ 0.40919079  0.32446419  0.29452701 ...,  0.66208677  1.          0.        ]\n",
      " [ 0.          0.          0.         ...,  0.          0.          0.        ]]\n"
     ]
    }
   ],
   "source": [
    "from sklearn.metrics.pairwise import cosine_similarity\n",
    "dist = cosine_similarity(tfidf_matrix)\n",
    "print dist"
   ]
  },
  {
   "cell_type": "code",
   "execution_count": 35,
   "metadata": {},
   "outputs": [
    {
     "data": {
      "text/plain": [
       "array([ 0.27120302,  0.27773673,  0.2163732 ,  0.13939002,  0.32275932,\n",
       "        0.32806528,  0.37195595,  0.26906931,  1.        ,  0.15166647,\n",
       "        0.28129162,  0.29265742,  0.33047318,  0.26323399,  0.34501623,\n",
       "        0.40822904,  0.2678433 ,  0.18945155,  0.31909933,  0.41608597,\n",
       "        0.40999747,  0.28143208,  0.2403546 ,  0.2957111 ,  0.20575076,\n",
       "        0.2072054 ,  0.35695361,  0.32661985,  0.10840836,  0.17217577,\n",
       "        0.17910854,  0.19500568,  0.22442074,  0.32378487,  0.2442254 ,\n",
       "        0.27894465,  0.30017245,  0.33489245,  0.36224329,  0.4133192 ,\n",
       "        0.22312929,  0.19996767,  0.2861762 ,  0.12256007,  0.33282564,\n",
       "        0.22749002,  0.33995988,  0.27549229,  0.18358597,  0.32490451,\n",
       "        0.21754671,  0.18598302,  0.27640809,  0.25023286,  0.15603483,\n",
       "        0.21976259,  0.        ,  0.18525404,  0.31209715,  0.22609957,\n",
       "        0.32282219,  0.27292247,  0.        ,  0.27079668,  0.        ,\n",
       "        0.21979581,  0.10457177,  0.26800157,  0.22924921,  0.2938711 ,\n",
       "        0.23260294,  0.13646786,  0.23865326,  0.28755581,  0.        ,\n",
       "        0.38414898,  0.3450677 ,  0.22771228,  0.20765761,  0.        ,\n",
       "        0.23545817,  0.35210092,  0.        ,  0.30237291,  0.29680856,\n",
       "        0.30628348,  0.3044357 ,  0.20641349,  0.        ,  0.        ,\n",
       "        0.25946513,  0.36200071,  0.30472771,  0.        ,  0.19793015,\n",
       "        0.17756222,  0.28893745,  0.40379046,  0.4227552 ,  0.        ])"
      ]
     },
     "execution_count": 35,
     "metadata": {},
     "output_type": "execute_result"
    }
   ],
   "source": [
    "dist[8]"
   ]
  },
  {
   "cell_type": "code",
   "execution_count": 36,
   "metadata": {},
   "outputs": [
    {
     "name": "stdout",
     "output_type": "stream",
     "text": [
      "CPU times: user 392 ms, sys: 4 ms, total: 396 ms\n",
      "Wall time: 394 ms\n"
     ]
    }
   ],
   "source": [
    "from sklearn.cluster import KMeans\n",
    "\n",
    "num_clusters = 5\n",
    "\n",
    "km = KMeans(n_clusters=num_clusters)\n",
    "\n",
    "%time km.fit(tfidf_matrix)\n",
    "\n",
    "clusters = km.labels_.tolist()"
   ]
  },
  {
   "cell_type": "code",
   "execution_count": 39,
   "metadata": {},
   "outputs": [
    {
     "name": "stdout",
     "output_type": "stream",
     "text": [
      "[0, 1, 1, 0, 1, 1, 4, 4, 2, 4, 1, 0, 4, 4, 4, 4, 4, 2, 4, 1, 2, 4, 4, 4, 1, 3, 4, 4, 3, 1, 4, 1, 4, 1, 0, 1, 1, 1, 1, 4, 0, 0, 4, 0, 0, 2, 2, 0, 1, 4, 0, 1, 1, 2, 4, 1, 3, 1, 0, 0, 4, 1, 3, 4, 3, 0, 4, 4, 2, 2, 4, 4, 0, 4, 3, 4, 4, 0, 0, 3, 1, 4, 3, 4, 4, 4, 4, 3, 3, 3, 4, 4, 4, 3, 4, 4, 4, 4, 4, 3]\n"
     ]
    }
   ],
   "source": [
    "print clusters"
   ]
  },
  {
   "cell_type": "code",
   "execution_count": 40,
   "metadata": {
    "collapsed": true
   },
   "outputs": [],
   "source": [
    "films = { 'title': titles, 'synopsis': synopses, 'cluster': clusters}\n",
    "\n",
    "frame = pd.DataFrame(films, index = [clusters] , columns = ['title', 'cluster'])"
   ]
  },
  {
   "cell_type": "code",
   "execution_count": 41,
   "metadata": {},
   "outputs": [
    {
     "data": {
      "text/plain": [
       "4    42\n",
       "1    21\n",
       "0    16\n",
       "3    13\n",
       "2     8\n",
       "Name: cluster, dtype: int64"
      ]
     },
     "execution_count": 41,
     "metadata": {},
     "output_type": "execute_result"
    }
   ],
   "source": [
    "frame['cluster'].value_counts()"
   ]
  }
 ],
 "metadata": {
  "kernelspec": {
   "display_name": "Python 3",
   "language": "python",
   "name": "python3"
  },
  "language_info": {
   "codemirror_mode": {
    "name": "ipython",
    "version": 3
   },
   "file_extension": ".py",
   "mimetype": "text/x-python",
   "name": "python",
   "nbconvert_exporter": "python",
   "pygments_lexer": "ipython3",
   "version": "3.6.6"
  }
 },
 "nbformat": 4,
 "nbformat_minor": 1
}
